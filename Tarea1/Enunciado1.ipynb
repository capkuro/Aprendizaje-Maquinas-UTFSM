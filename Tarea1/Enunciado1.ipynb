{
 "cells": [
  {
   "cell_type": "markdown",
   "metadata": {},
   "source": [
    "<img src=\"http://www.exalumnos.usm.cl/wp-content/uploads/2015/06/Isotipo-Negro.gif\" title=\"Title text\" width=\"20%\" height=\"20%\" />\n",
    "\n",
    "\n",
    "<hr style=\"height:2px;border:none\"/>\n",
    "<h1 align='center'> INF-393/578 Máquinas de Aprendizaje - 2019-1 </h1>\n",
    "\n",
    "<H3 align='center'> Tarea 1  </H3>\n",
    "<hr style=\"height:2px;border:none\"/>\n",
    "\n",
    "**Temas**  \n",
    "* Manipulaciones básicas en pandas\n",
    "* Preprocesamiento y exploración inicial de datos\n",
    "* Regresión Lineal Multivariada\n",
    "* PCA, LDA\n",
    "* Selección de atributos _from scratch_, Métodos Wrapper e Información Mutual\n",
    "* Selección de modelos por _Cross Validation_\n",
    "\n",
    "\n",
    "**Formalidades**  \n",
    "* Equipos de trabajo de 2 personas (*Ambos estudiantes deben estar preparados para presentar la tarea el día de la entrega*)\n",
    "* El entregable debe ser un _Jupyter Notebook_ incluyendo los códigos utilizados, los resultados, los gráficos realizados y comentarios. Debe seguir una estructura similar a un informe (se debe introducir los problemas a trabajar, presentar los resultados y discutirlos). Si lo prefiere puede entregar un _Jupyter Notebook_ por pregunta o un por toda la tarea, con tal de que todos los entregables esten bien identificados y se encuentren en el mismo repositorio de _Github_.\n",
    "* Se debe preparar una presentación del trabajo realizado y sus hallazgos. El presentador será elegido aleatoriamente y deberá apoyarse en el _Jupyter Notebook_ que entregarán. \n",
    "* Formato de entrega: envı́o de link del repositorio en _Github_ ( en caso de ser repositorio privado, invitar como colaborador al usuario de github \"avalderr\") al correo electrónico del ayudante (*<alvaro.valderrama.13@sansano.usm.cl>*), en copia al profesor (*<cvalle@inf.utfsm.cl>*). Especificar el siguiente asunto: [INF393/578-2019 Tarea1]\n",
    "* Fecha de entrega y presentaciones: 26 de Abril. Hora límite de entrega: 23:00. Cualquier _commit_ luego de la hora límite no será evaluado. Se realizará descuento por atrasos en envío del mail. \n",
    "\n",
    "<hr style=\"height:2px;border:none\"/>\n",
    "\n",
    "La tarea se divide en tres partes:\n",
    "\n",
    "[1.](#primero) Aprendizaje con regresión lineal  \n",
    "[2.](#segundo) Análisis de audios como datos brutos  \n",
    "[3.](#tercero) Análisis de emociones en tweets\n",
    "\n",
    "La tarea tiene ejemplos de códigos con los cuales pueden guiarse en gran parte, sin embargo solo son guias y pueden ser creativos al momento de resolver la tarea. Soluciones creativas o elegantes seran valoradas. También en algunas ocaciones se hacen elecciones arbitrarias, ustedes pueden realizar otras elecciones con tal de que haya una pequeña justificación de por qué su elección es mejor o equivalente.\n",
    "Recuerden intercalar su código con comentarios y con celdas _Markdown_ con los comentarios de la pregunta y con cualquier analisis, fórmula o explicación que les parezca relevante para justificar sus procedimientos. \n",
    "Noten que en general cuando se les pide elegir algo o proponer algo no se evaluará mucho la elección en si, en cambio la argumentación detrás de la elección será lo más ponderado.\n",
    "Si algun modelo se demora demasiado en correr en su maquina, no olvide que puede correr _Jupyter Notebooks_ en _Collab_ de Google, esto puede ser relevante para las maquinas más lentas al momento de realizar exploraciones con _K-folds_."
   ]
  },
  {
   "cell_type": "markdown",
   "metadata": {},
   "source": [
    "<a id=\"primero\"></a>\n",
    "## 1. Aprendizaje con regresión lineal.\n",
    "\n",
    "La regresión lineal, modelo que busca la mejor forma de combinar linealmente variables para predecir otra variable numérica es una de las herramientas más básicas a nuestra disposición. Sin embargo se puede encontrar muchas aplicaciones a esta aproximación con buenos resultados, y suele ser un buen punto de partida para problemas totalmente desconocidos por su velocidad de implementar y simpleza de interpretar. Además, al igual que muchas de las técnicas de _Machine Learning_, no tiene un ambito de uso definido, es decir podemos aplicar un metodo similar para problemas radicalmente distintos. \n",
    "\n",
    "<img src=\"https://i.stack.imgur.com/cNJQs.png\" style=\"height:50%;\" />\n",
    "\n",
    "En esta primera parte de la tarea, trabajaremos con un _dataset_ de _Kaggle_ llamado \"_Black Friday_\", el cual contiene alrededor de medio millón de registros. Este _dataset_ contiene diversas informaciones sobres los consumidores (edad, ocupación, género, entre otros) y el valor de la compra que realizaron al momento de la medición. Pueden descargar el _dataset_ desde https://www.kaggle.com/mehdidag/black-friday. Este _dataset_ fue pensado para intentar de predecir el valor de compra de un cliente en funcion de sus caracteristicas, sin embargo uno puede realizar distintas regresiones y tratar, por ejemplo, de predecir el rango de edad de un cliente basado en sus otras caracteristicas incluyendo el valor de su compra. En esta primera parte utilizaremos el set de datos para hacer regresión lineal sobre el valor de compra, es decir la variable a predecir es el valor de compra. "
   ]
  },
  {
   "cell_type": "code",
   "execution_count": 1,
   "metadata": {},
   "outputs": [
    {
     "data": {
      "text/html": [
       "<div>\n",
       "<style scoped>\n",
       "    .dataframe tbody tr th:only-of-type {\n",
       "        vertical-align: middle;\n",
       "    }\n",
       "\n",
       "    .dataframe tbody tr th {\n",
       "        vertical-align: top;\n",
       "    }\n",
       "\n",
       "    .dataframe thead th {\n",
       "        text-align: right;\n",
       "    }\n",
       "</style>\n",
       "<table border=\"1\" class=\"dataframe\">\n",
       "  <thead>\n",
       "    <tr style=\"text-align: right;\">\n",
       "      <th></th>\n",
       "      <th>User_ID</th>\n",
       "      <th>Product_ID</th>\n",
       "      <th>Gender</th>\n",
       "      <th>Age</th>\n",
       "      <th>Occupation</th>\n",
       "      <th>City_Category</th>\n",
       "      <th>Stay_In_Current_City_Years</th>\n",
       "      <th>Marital_Status</th>\n",
       "      <th>Product_Category_1</th>\n",
       "      <th>Product_Category_2</th>\n",
       "      <th>Product_Category_3</th>\n",
       "      <th>Purchase</th>\n",
       "    </tr>\n",
       "  </thead>\n",
       "  <tbody>\n",
       "    <tr>\n",
       "      <th>0</th>\n",
       "      <td>1000001</td>\n",
       "      <td>P00069042</td>\n",
       "      <td>F</td>\n",
       "      <td>0-17</td>\n",
       "      <td>10</td>\n",
       "      <td>A</td>\n",
       "      <td>2</td>\n",
       "      <td>0</td>\n",
       "      <td>3</td>\n",
       "      <td>NaN</td>\n",
       "      <td>NaN</td>\n",
       "      <td>8370</td>\n",
       "    </tr>\n",
       "    <tr>\n",
       "      <th>1</th>\n",
       "      <td>1000001</td>\n",
       "      <td>P00248942</td>\n",
       "      <td>F</td>\n",
       "      <td>0-17</td>\n",
       "      <td>10</td>\n",
       "      <td>A</td>\n",
       "      <td>2</td>\n",
       "      <td>0</td>\n",
       "      <td>1</td>\n",
       "      <td>6.0</td>\n",
       "      <td>14.0</td>\n",
       "      <td>15200</td>\n",
       "    </tr>\n",
       "    <tr>\n",
       "      <th>2</th>\n",
       "      <td>1000001</td>\n",
       "      <td>P00087842</td>\n",
       "      <td>F</td>\n",
       "      <td>0-17</td>\n",
       "      <td>10</td>\n",
       "      <td>A</td>\n",
       "      <td>2</td>\n",
       "      <td>0</td>\n",
       "      <td>12</td>\n",
       "      <td>NaN</td>\n",
       "      <td>NaN</td>\n",
       "      <td>1422</td>\n",
       "    </tr>\n",
       "    <tr>\n",
       "      <th>3</th>\n",
       "      <td>1000001</td>\n",
       "      <td>P00085442</td>\n",
       "      <td>F</td>\n",
       "      <td>0-17</td>\n",
       "      <td>10</td>\n",
       "      <td>A</td>\n",
       "      <td>2</td>\n",
       "      <td>0</td>\n",
       "      <td>12</td>\n",
       "      <td>14.0</td>\n",
       "      <td>NaN</td>\n",
       "      <td>1057</td>\n",
       "    </tr>\n",
       "    <tr>\n",
       "      <th>4</th>\n",
       "      <td>1000002</td>\n",
       "      <td>P00285442</td>\n",
       "      <td>M</td>\n",
       "      <td>55+</td>\n",
       "      <td>16</td>\n",
       "      <td>C</td>\n",
       "      <td>4+</td>\n",
       "      <td>0</td>\n",
       "      <td>8</td>\n",
       "      <td>NaN</td>\n",
       "      <td>NaN</td>\n",
       "      <td>7969</td>\n",
       "    </tr>\n",
       "  </tbody>\n",
       "</table>\n",
       "</div>"
      ],
      "text/plain": [
       "   User_ID Product_ID Gender   Age  Occupation City_Category  \\\n",
       "0  1000001  P00069042      F  0-17          10             A   \n",
       "1  1000001  P00248942      F  0-17          10             A   \n",
       "2  1000001  P00087842      F  0-17          10             A   \n",
       "3  1000001  P00085442      F  0-17          10             A   \n",
       "4  1000002  P00285442      M   55+          16             C   \n",
       "\n",
       "  Stay_In_Current_City_Years  Marital_Status  Product_Category_1  \\\n",
       "0                          2               0                   3   \n",
       "1                          2               0                   1   \n",
       "2                          2               0                  12   \n",
       "3                          2               0                  12   \n",
       "4                         4+               0                   8   \n",
       "\n",
       "   Product_Category_2  Product_Category_3  Purchase  \n",
       "0                 NaN                 NaN      8370  \n",
       "1                 6.0                14.0     15200  \n",
       "2                 NaN                 NaN      1422  \n",
       "3                14.0                 NaN      1057  \n",
       "4                 NaN                 NaN      7969  "
      ]
     },
     "execution_count": 1,
     "metadata": {},
     "output_type": "execute_result"
    }
   ],
   "source": [
    "import pandas as pd\n",
    "import matplotlib.pyplot as plt\n",
    "import seaborn as sns\n",
    "import numpy as np\n",
    "\n",
    "sns.set_style()\n",
    "%matplotlib inline\n",
    "\n",
    "import scipy.stats as stats\n",
    "\n",
    "from sklearn.preprocessing import StandardScaler\n",
    "from sklearn.model_selection import train_test_split, KFold\n",
    "from sklearn.linear_model import LinearRegression\n",
    "from sklearn import metrics\n",
    "\n",
    "import warnings\n",
    "warnings.filterwarnings('ignore')\n",
    "\n",
    "data = pd.read_csv(\"BlackFriday.csv\")\n",
    "data.head()"
   ]
  },
  {
   "cell_type": "code",
   "execution_count": 2,
   "metadata": {},
   "outputs": [
    {
     "name": "stdout",
     "output_type": "stream",
     "text": [
      "<class 'pandas.core.frame.DataFrame'>\n",
      "RangeIndex: 537577 entries, 0 to 537576\n",
      "Data columns (total 12 columns):\n",
      "User_ID                       537577 non-null int64\n",
      "Product_ID                    537577 non-null object\n",
      "Gender                        537577 non-null object\n",
      "Age                           537577 non-null object\n",
      "Occupation                    537577 non-null int64\n",
      "City_Category                 537577 non-null object\n",
      "Stay_In_Current_City_Years    537577 non-null object\n",
      "Marital_Status                537577 non-null int64\n",
      "Product_Category_1            537577 non-null int64\n",
      "Product_Category_2            370591 non-null float64\n",
      "Product_Category_3            164278 non-null float64\n",
      "Purchase                      537577 non-null int64\n",
      "dtypes: float64(2), int64(5), object(5)\n",
      "memory usage: 49.2+ MB\n"
     ]
    }
   ],
   "source": [
    "data.info()"
   ]
  },
  {
   "cell_type": "code",
   "execution_count": 3,
   "metadata": {},
   "outputs": [
    {
     "data": {
      "text/html": [
       "<div>\n",
       "<style scoped>\n",
       "    .dataframe tbody tr th:only-of-type {\n",
       "        vertical-align: middle;\n",
       "    }\n",
       "\n",
       "    .dataframe tbody tr th {\n",
       "        vertical-align: top;\n",
       "    }\n",
       "\n",
       "    .dataframe thead th {\n",
       "        text-align: right;\n",
       "    }\n",
       "</style>\n",
       "<table border=\"1\" class=\"dataframe\">\n",
       "  <thead>\n",
       "    <tr style=\"text-align: right;\">\n",
       "      <th></th>\n",
       "      <th>User_ID</th>\n",
       "      <th>Occupation</th>\n",
       "      <th>Marital_Status</th>\n",
       "      <th>Product_Category_1</th>\n",
       "      <th>Product_Category_2</th>\n",
       "      <th>Product_Category_3</th>\n",
       "      <th>Purchase</th>\n",
       "    </tr>\n",
       "  </thead>\n",
       "  <tbody>\n",
       "    <tr>\n",
       "      <th>count</th>\n",
       "      <td>5.375770e+05</td>\n",
       "      <td>537577.00000</td>\n",
       "      <td>537577.000000</td>\n",
       "      <td>537577.000000</td>\n",
       "      <td>370591.000000</td>\n",
       "      <td>164278.000000</td>\n",
       "      <td>537577.000000</td>\n",
       "    </tr>\n",
       "    <tr>\n",
       "      <th>mean</th>\n",
       "      <td>1.002992e+06</td>\n",
       "      <td>8.08271</td>\n",
       "      <td>0.408797</td>\n",
       "      <td>5.295546</td>\n",
       "      <td>9.842144</td>\n",
       "      <td>12.669840</td>\n",
       "      <td>9333.859853</td>\n",
       "    </tr>\n",
       "    <tr>\n",
       "      <th>std</th>\n",
       "      <td>1.714393e+03</td>\n",
       "      <td>6.52412</td>\n",
       "      <td>0.491612</td>\n",
       "      <td>3.750701</td>\n",
       "      <td>5.087259</td>\n",
       "      <td>4.124341</td>\n",
       "      <td>4981.022133</td>\n",
       "    </tr>\n",
       "    <tr>\n",
       "      <th>min</th>\n",
       "      <td>1.000001e+06</td>\n",
       "      <td>0.00000</td>\n",
       "      <td>0.000000</td>\n",
       "      <td>1.000000</td>\n",
       "      <td>2.000000</td>\n",
       "      <td>3.000000</td>\n",
       "      <td>185.000000</td>\n",
       "    </tr>\n",
       "    <tr>\n",
       "      <th>25%</th>\n",
       "      <td>1.001495e+06</td>\n",
       "      <td>2.00000</td>\n",
       "      <td>0.000000</td>\n",
       "      <td>1.000000</td>\n",
       "      <td>5.000000</td>\n",
       "      <td>9.000000</td>\n",
       "      <td>5866.000000</td>\n",
       "    </tr>\n",
       "    <tr>\n",
       "      <th>50%</th>\n",
       "      <td>1.003031e+06</td>\n",
       "      <td>7.00000</td>\n",
       "      <td>0.000000</td>\n",
       "      <td>5.000000</td>\n",
       "      <td>9.000000</td>\n",
       "      <td>14.000000</td>\n",
       "      <td>8062.000000</td>\n",
       "    </tr>\n",
       "    <tr>\n",
       "      <th>75%</th>\n",
       "      <td>1.004417e+06</td>\n",
       "      <td>14.00000</td>\n",
       "      <td>1.000000</td>\n",
       "      <td>8.000000</td>\n",
       "      <td>15.000000</td>\n",
       "      <td>16.000000</td>\n",
       "      <td>12073.000000</td>\n",
       "    </tr>\n",
       "    <tr>\n",
       "      <th>max</th>\n",
       "      <td>1.006040e+06</td>\n",
       "      <td>20.00000</td>\n",
       "      <td>1.000000</td>\n",
       "      <td>18.000000</td>\n",
       "      <td>18.000000</td>\n",
       "      <td>18.000000</td>\n",
       "      <td>23961.000000</td>\n",
       "    </tr>\n",
       "  </tbody>\n",
       "</table>\n",
       "</div>"
      ],
      "text/plain": [
       "            User_ID    Occupation  Marital_Status  Product_Category_1  \\\n",
       "count  5.375770e+05  537577.00000   537577.000000       537577.000000   \n",
       "mean   1.002992e+06       8.08271        0.408797            5.295546   \n",
       "std    1.714393e+03       6.52412        0.491612            3.750701   \n",
       "min    1.000001e+06       0.00000        0.000000            1.000000   \n",
       "25%    1.001495e+06       2.00000        0.000000            1.000000   \n",
       "50%    1.003031e+06       7.00000        0.000000            5.000000   \n",
       "75%    1.004417e+06      14.00000        1.000000            8.000000   \n",
       "max    1.006040e+06      20.00000        1.000000           18.000000   \n",
       "\n",
       "       Product_Category_2  Product_Category_3       Purchase  \n",
       "count       370591.000000       164278.000000  537577.000000  \n",
       "mean             9.842144           12.669840    9333.859853  \n",
       "std              5.087259            4.124341    4981.022133  \n",
       "min              2.000000            3.000000     185.000000  \n",
       "25%              5.000000            9.000000    5866.000000  \n",
       "50%              9.000000           14.000000    8062.000000  \n",
       "75%             15.000000           16.000000   12073.000000  \n",
       "max             18.000000           18.000000   23961.000000  "
      ]
     },
     "execution_count": 3,
     "metadata": {},
     "output_type": "execute_result"
    }
   ],
   "source": [
    "data.describe()"
   ]
  },
  {
   "cell_type": "markdown",
   "metadata": {},
   "source": [
    "Cuente los valores N/A de cada columna con el siguiente código y explique brevemente porque en un primer momento preferiremos eliminar la segunda y tercera categoría del producto.\n",
    "\n",
    " Cuantos registros hay de mujeres y de hombres? Cuanto gastan en promedio los distintos rangos de edad? Entregue alguna otra medicion que le parezca interesante y permita familiarizarse con los datos."
   ]
  },
  {
   "cell_type": "code",
   "execution_count": 4,
   "metadata": {},
   "outputs": [
    {
     "name": "stdout",
     "output_type": "stream",
     "text": [
      "User_ID                            0\n",
      "Product_ID                         0\n",
      "Gender                             0\n",
      "Age                                0\n",
      "Occupation                         0\n",
      "City_Category                      0\n",
      "Stay_In_Current_City_Years         0\n",
      "Marital_Status                     0\n",
      "Product_Category_1                 0\n",
      "Product_Category_2            166986\n",
      "Product_Category_3            373299\n",
      "Purchase                           0\n",
      "dtype: int64\n"
     ]
    }
   ],
   "source": [
    "print(data.isna().sum())"
   ]
  },
  {
   "cell_type": "markdown",
   "metadata": {},
   "source": [
    "### R:\n",
    "Si bien, la ausencia de un dato dentro de un set de datos se puede trabajar, por lo general hay que tener conocimiento de dominio, o en su defecto aplicar alguna técnica de imputación de datos. Acá como no conocemos si los datos faltantes pueden ser por que falta esta información o en su defecto, simplemente al producto comprado no se puede asociar otra categoría de pertenencia."
   ]
  },
  {
   "cell_type": "markdown",
   "metadata": {},
   "source": [
    "### Registros de cuantas mujeres y cuantos hombres"
   ]
  },
  {
   "cell_type": "code",
   "execution_count": 5,
   "metadata": {},
   "outputs": [
    {
     "name": "stdout",
     "output_type": "stream",
     "text": [
      "Gender\n",
      "F    1666\n",
      "M    4225\n",
      "Name: User_ID, dtype: int64\n"
     ]
    },
    {
     "data": {
      "image/png": "[encoded data removed]",
      "text/plain": [
       "<Figure size 432x288 with 1 Axes>"
      ]
     },
     "metadata": {},
     "output_type": "display_data"
    }
   ],
   "source": [
    "data.groupby(\"Gender\").User_ID.nunique().plot.bar(rot=0)\n",
    "print(data.groupby(\"Gender\").User_ID.nunique())\n",
    "plt.show()"
   ]
  },
  {
   "cell_type": "markdown",
   "metadata": {},
   "source": [
    "### Posibles categorias de producto"
   ]
  },
  {
   "cell_type": "code",
   "execution_count": 6,
   "metadata": {},
   "outputs": [
    {
     "name": "stdout",
     "output_type": "stream",
     "text": [
      "Categoría 1 [ 1  2  3  4  5  6  7  8  9 10 11 12 13 14 15 16 17 18]\n",
      "Categoría 2 [ 2.  3.  4.  5.  6.  7.  8.  9. 10. 11. 12. 13. 14. 15. 16. 17. 18. nan]\n",
      "Categoría 3 [ 3.  4.  5.  6.  8.  9. 10. 11. 12. 13. 14. 15. 16. 17. 18. nan]\n"
     ]
    }
   ],
   "source": [
    "print(\"Categoría 1\", np.sort(data['Product_Category_1'].unique()))\n",
    "print(\"Categoría 2\", np.sort(data['Product_Category_2'].unique()))\n",
    "print(\"Categoría 3\", np.sort(data['Product_Category_3'].unique()))"
   ]
  },
  {
   "cell_type": "markdown",
   "metadata": {},
   "source": [
    "### Compras promedio según la edad"
   ]
  },
  {
   "cell_type": "code",
   "execution_count": 7,
   "metadata": {},
   "outputs": [
    {
     "data": {
      "text/plain": [
       "Age\n",
       "0-17     9020.126878\n",
       "18-25    9235.197575\n",
       "26-35    9314.588970\n",
       "36-45    9401.478758\n",
       "46-50    9284.872277\n",
       "51-55    9620.616620\n",
       "55+      9453.898579\n",
       "Name: Purchase, dtype: float64"
      ]
     },
     "execution_count": 7,
     "metadata": {},
     "output_type": "execute_result"
    }
   ],
   "source": [
    "data.groupby('Age').mean()['Purchase']"
   ]
  },
  {
   "cell_type": "code",
   "execution_count": 8,
   "metadata": {},
   "outputs": [
    {
     "data": {
      "image/png": "[encoded data removed]",
      "text/plain": [
       "<Figure size 432x288 with 1 Axes>"
      ]
     },
     "metadata": {},
     "output_type": "display_data"
    }
   ],
   "source": [
    "sns.boxplot(x='Age',y='Purchase',data=data)\n",
    "plt.show()"
   ]
  },
  {
   "cell_type": "markdown",
   "metadata": {},
   "source": [
    "### Cantidad de compras segun la edad"
   ]
  },
  {
   "cell_type": "code",
   "execution_count": 9,
   "metadata": {},
   "outputs": [
    {
     "data": {
      "image/png": "[encoded data removed]",
      "text/plain": [
       "<Figure size 432x288 with 1 Axes>"
      ]
     },
     "metadata": {},
     "output_type": "display_data"
    }
   ],
   "source": [
    "sns.countplot(x=\"Age\",data=data)\n",
    "plt.show()"
   ]
  },
  {
   "cell_type": "markdown",
   "metadata": {},
   "source": [
    "### Cantidad de registros asociados a la categoria de ciudad"
   ]
  },
  {
   "cell_type": "code",
   "execution_count": 10,
   "metadata": {},
   "outputs": [
    {
     "data": {
      "image/png": "[encoded data removed]",
      "text/plain": [
       "<Figure size 432x288 with 1 Axes>"
      ]
     },
     "metadata": {},
     "output_type": "display_data"
    }
   ],
   "source": [
    "sns.countplot(x=\"City_Category\",data=data)\n",
    "plt.show()"
   ]
  },
  {
   "cell_type": "markdown",
   "metadata": {},
   "source": [
    " #### 1.b Columnas descartadas\n",
    "De los tipos de datos que tenemos cuales resultarán problematicos para realizar regresión lineal? Del dato \"City_Category\", cuantos valores distintos existen? (puede usar el metodo .unique por ejemplo)\n",
    "Porqué a pesar de ser dato numerico las columnas \"Product_Category\" podrían comportarse mal con la regresión lineal?"
   ]
  },
  {
   "cell_type": "code",
   "execution_count": 11,
   "metadata": {},
   "outputs": [
    {
     "name": "stdout",
     "output_type": "stream",
     "text": [
      "User_ID                         int64\n",
      "Product_ID                     object\n",
      "Gender                         object\n",
      "Age                            object\n",
      "Occupation                      int64\n",
      "City_Category                  object\n",
      "Stay_In_Current_City_Years     object\n",
      "Marital_Status                  int64\n",
      "Product_Category_1              int64\n",
      "Product_Category_2            float64\n",
      "Product_Category_3            float64\n",
      "Purchase                        int64\n",
      "dtype: object\n"
     ]
    }
   ],
   "source": [
    "print(data.dtypes)\n",
    "data = data.drop(columns=['User_ID','Product_ID','Product_Category_1','Product_Category_2','Product_Category_3']) "
   ]
  },
  {
   "cell_type": "markdown",
   "metadata": {},
   "source": [
    "### R:\n",
    "City category fue contestado anteriormente en la descripción de datos\n",
    "\n",
    "Product Category puede ser complicado debido a que pertenece a una codificación de datos categóricos, donde perfectamente puede ser completamente arbitraria. Si bien una escala en teoría podría funcionar (Pequeño: 0, Mediano:1, Grande:2) debido a que existe un orden y estas podrían interpretar dicha escala; pero cuando se tienen variables categorías no ordinales, esta codificación puede presentar problemas (Azul: 0, Rojo:1 -> Rojo > Azul?)\n"
   ]
  },
  {
   "cell_type": "markdown",
   "metadata": {},
   "source": [
    " #### 1.c  Datos Categoricos\n",
    " Transformaremos ahora los datos no numericos a datos numéricos. Para esto transformaremos el género a una variable binaria como muestra el código siguiente. Transforme todos los datos problematicos de manera similar. Discuta la eleccion realizada para \"City_Category\", más adelante haremos otra propuesta. Para los rangos de edad puede utilizar el promedio de ambos valores. Discuta si tiene alguna relevancia la elección del valor numerigo (_e.g._ 1 ó 0 para mujer) para el modelo de regresión lineal. Es así en todos los casos o solo para variables binarias?\n",
    " Por qué el dato \"Occupation\" no podemos utilizarlo directamente a pesar de ser numérico? Que solucion nos da el metodo `get_dummies` de pandas?"
   ]
  },
  {
   "cell_type": "markdown",
   "metadata": {},
   "source": [
    "### R:\n",
    "Entendamos la naturaleza de los datos categóricos, para la construcción de los diccionarios"
   ]
  },
  {
   "cell_type": "code",
   "execution_count": 12,
   "metadata": {},
   "outputs": [
    {
     "name": "stdout",
     "output_type": "stream",
     "text": [
      "['F' 'M']\n",
      "['0-17' '55+' '26-35' '46-50' '51-55' '36-45' '18-25']\n",
      "['A' 'C' 'B']\n",
      "['2' '4+' '3' '1' '0']\n"
     ]
    }
   ],
   "source": [
    "print(data['Gender'].unique())\n",
    "print(data['Age'].unique())\n",
    "print(data['City_Category'].unique())\n",
    "print(data['Stay_In_Current_City_Years'].unique())"
   ]
  },
  {
   "cell_type": "markdown",
   "metadata": {},
   "source": [
    "### R:\n",
    "Sobre la eleccion para la \"City_Category\"\n",
    "La caracteristicas categoricas como \"Gender\" si pueden afectar \n",
    "El metodo \"get_dummies\" de pandas hace una codificacion de una variable categorica del tipo \"one-hot encoding\". Esta transforma una variable categorica $C$ con $k$ posibles valores categoricos, en $k-1$ (o $k$, dependiendo de la implementación) variables binarias. En el caso de $k-1$ variables, uno puede representar cada categoria como un valor binario, y luego la categoria restante, como la auscencia de un valor binario de las categorias: ej: \n",
    "\n",
    "$C$ = [azul, rojo, verde] lo transformamos a $(c_1,c_2)$, luego:\n",
    "\n",
    "$(0,0)$ = azul  \n",
    "$(0,1)$ = rojo  \n",
    "$(1,0)$ = verde    "
   ]
  },
  {
   "cell_type": "code",
   "execution_count": 13,
   "metadata": {},
   "outputs": [
    {
     "data": {
      "text/html": [
       "<div>\n",
       "<style scoped>\n",
       "    .dataframe tbody tr th:only-of-type {\n",
       "        vertical-align: middle;\n",
       "    }\n",
       "\n",
       "    .dataframe tbody tr th {\n",
       "        vertical-align: top;\n",
       "    }\n",
       "\n",
       "    .dataframe thead th {\n",
       "        text-align: right;\n",
       "    }\n",
       "</style>\n",
       "<table border=\"1\" class=\"dataframe\">\n",
       "  <thead>\n",
       "    <tr style=\"text-align: right;\">\n",
       "      <th></th>\n",
       "      <th>Gender</th>\n",
       "      <th>Age</th>\n",
       "      <th>City_Category</th>\n",
       "      <th>Stay_In_Current_City_Years</th>\n",
       "      <th>Marital_Status</th>\n",
       "      <th>Purchase</th>\n",
       "      <th>occupation_0</th>\n",
       "      <th>occupation_1</th>\n",
       "      <th>occupation_2</th>\n",
       "      <th>occupation_3</th>\n",
       "      <th>...</th>\n",
       "      <th>occupation_11</th>\n",
       "      <th>occupation_12</th>\n",
       "      <th>occupation_13</th>\n",
       "      <th>occupation_14</th>\n",
       "      <th>occupation_15</th>\n",
       "      <th>occupation_16</th>\n",
       "      <th>occupation_17</th>\n",
       "      <th>occupation_18</th>\n",
       "      <th>occupation_19</th>\n",
       "      <th>occupation_20</th>\n",
       "    </tr>\n",
       "  </thead>\n",
       "  <tbody>\n",
       "    <tr>\n",
       "      <th>0</th>\n",
       "      <td>1</td>\n",
       "      <td>0</td>\n",
       "      <td>-1</td>\n",
       "      <td>2</td>\n",
       "      <td>0</td>\n",
       "      <td>8370</td>\n",
       "      <td>0</td>\n",
       "      <td>0</td>\n",
       "      <td>0</td>\n",
       "      <td>0</td>\n",
       "      <td>...</td>\n",
       "      <td>0</td>\n",
       "      <td>0</td>\n",
       "      <td>0</td>\n",
       "      <td>0</td>\n",
       "      <td>0</td>\n",
       "      <td>0</td>\n",
       "      <td>0</td>\n",
       "      <td>0</td>\n",
       "      <td>0</td>\n",
       "      <td>0</td>\n",
       "    </tr>\n",
       "    <tr>\n",
       "      <th>1</th>\n",
       "      <td>1</td>\n",
       "      <td>0</td>\n",
       "      <td>-1</td>\n",
       "      <td>2</td>\n",
       "      <td>0</td>\n",
       "      <td>15200</td>\n",
       "      <td>0</td>\n",
       "      <td>0</td>\n",
       "      <td>0</td>\n",
       "      <td>0</td>\n",
       "      <td>...</td>\n",
       "      <td>0</td>\n",
       "      <td>0</td>\n",
       "      <td>0</td>\n",
       "      <td>0</td>\n",
       "      <td>0</td>\n",
       "      <td>0</td>\n",
       "      <td>0</td>\n",
       "      <td>0</td>\n",
       "      <td>0</td>\n",
       "      <td>0</td>\n",
       "    </tr>\n",
       "    <tr>\n",
       "      <th>2</th>\n",
       "      <td>1</td>\n",
       "      <td>0</td>\n",
       "      <td>-1</td>\n",
       "      <td>2</td>\n",
       "      <td>0</td>\n",
       "      <td>1422</td>\n",
       "      <td>0</td>\n",
       "      <td>0</td>\n",
       "      <td>0</td>\n",
       "      <td>0</td>\n",
       "      <td>...</td>\n",
       "      <td>0</td>\n",
       "      <td>0</td>\n",
       "      <td>0</td>\n",
       "      <td>0</td>\n",
       "      <td>0</td>\n",
       "      <td>0</td>\n",
       "      <td>0</td>\n",
       "      <td>0</td>\n",
       "      <td>0</td>\n",
       "      <td>0</td>\n",
       "    </tr>\n",
       "    <tr>\n",
       "      <th>3</th>\n",
       "      <td>1</td>\n",
       "      <td>0</td>\n",
       "      <td>-1</td>\n",
       "      <td>2</td>\n",
       "      <td>0</td>\n",
       "      <td>1057</td>\n",
       "      <td>0</td>\n",
       "      <td>0</td>\n",
       "      <td>0</td>\n",
       "      <td>0</td>\n",
       "      <td>...</td>\n",
       "      <td>0</td>\n",
       "      <td>0</td>\n",
       "      <td>0</td>\n",
       "      <td>0</td>\n",
       "      <td>0</td>\n",
       "      <td>0</td>\n",
       "      <td>0</td>\n",
       "      <td>0</td>\n",
       "      <td>0</td>\n",
       "      <td>0</td>\n",
       "    </tr>\n",
       "    <tr>\n",
       "      <th>4</th>\n",
       "      <td>0</td>\n",
       "      <td>6</td>\n",
       "      <td>0</td>\n",
       "      <td>5</td>\n",
       "      <td>0</td>\n",
       "      <td>7969</td>\n",
       "      <td>0</td>\n",
       "      <td>0</td>\n",
       "      <td>0</td>\n",
       "      <td>0</td>\n",
       "      <td>...</td>\n",
       "      <td>0</td>\n",
       "      <td>0</td>\n",
       "      <td>0</td>\n",
       "      <td>0</td>\n",
       "      <td>0</td>\n",
       "      <td>1</td>\n",
       "      <td>0</td>\n",
       "      <td>0</td>\n",
       "      <td>0</td>\n",
       "      <td>0</td>\n",
       "    </tr>\n",
       "  </tbody>\n",
       "</table>\n",
       "<p>5 rows × 27 columns</p>\n",
       "</div>"
      ],
      "text/plain": [
       "   Gender  Age  City_Category  Stay_In_Current_City_Years  Marital_Status  \\\n",
       "0       1    0             -1                           2               0   \n",
       "1       1    0             -1                           2               0   \n",
       "2       1    0             -1                           2               0   \n",
       "3       1    0             -1                           2               0   \n",
       "4       0    6              0                           5               0   \n",
       "\n",
       "   Purchase  occupation_0  occupation_1  occupation_2  occupation_3  \\\n",
       "0      8370             0             0             0             0   \n",
       "1     15200             0             0             0             0   \n",
       "2      1422             0             0             0             0   \n",
       "3      1057             0             0             0             0   \n",
       "4      7969             0             0             0             0   \n",
       "\n",
       "       ...        occupation_11  occupation_12  occupation_13  occupation_14  \\\n",
       "0      ...                    0              0              0              0   \n",
       "1      ...                    0              0              0              0   \n",
       "2      ...                    0              0              0              0   \n",
       "3      ...                    0              0              0              0   \n",
       "4      ...                    0              0              0              0   \n",
       "\n",
       "   occupation_15  occupation_16  occupation_17  occupation_18  occupation_19  \\\n",
       "0              0              0              0              0              0   \n",
       "1              0              0              0              0              0   \n",
       "2              0              0              0              0              0   \n",
       "3              0              0              0              0              0   \n",
       "4              0              1              0              0              0   \n",
       "\n",
       "   occupation_20  \n",
       "0              0  \n",
       "1              0  \n",
       "2              0  \n",
       "3              0  \n",
       "4              0  \n",
       "\n",
       "[5 rows x 27 columns]"
      ]
     },
     "execution_count": 13,
     "metadata": {},
     "output_type": "execute_result"
    }
   ],
   "source": [
    "gender_dict = {'F':1,'M':0}\n",
    "age_dict = {'0-17':0,'18-25':1, '26-35':2,'36-45':3,'46-50':4,'51-55':5,'55+':6}\n",
    "siccy_dict = {'0':0,'1':1,'2':2,'3':3,'4+':5}\n",
    "city_cat_dic = {'A':-1, 'C':0, 'B':1}\n",
    "\n",
    "data['Gender'] = data.Gender.apply(lambda x: gender_dict[x])\n",
    "data['Age'] = data.Age.apply(lambda x: age_dict[x])\n",
    "data['Stay_In_Current_City_Years'] = data.Stay_In_Current_City_Years.apply(lambda x: siccy_dict[x])\n",
    "data['City_Category'] = data.City_Category.apply(lambda x: city_cat_dic[x])\n",
    "\n",
    "#city_dummies = pd.get_dummies(data.City_Category,prefix=\"city\") #¨preferiria utilizar esta transformación\n",
    "occupation_dummies = pd.get_dummies(data.Occupation,prefix=\"occupation\")\n",
    "col = list(data.columns)\n",
    "#col.remove('City_Category') #con cities dummies, hay que eliminar la columna\n",
    "col.remove('Occupation')\n",
    "data_pre = data[col]\n",
    "#data_pre = data_pre.join(city_dummies) #añadimos los dummies\n",
    "data_pre = data_pre.join(occupation_dummies)\n",
    "data_pre.head()"
   ]
  },
  {
   "cell_type": "markdown",
   "metadata": {},
   "source": [
    "  #### 1.d  Separación de datos\n",
    " Separaremos los datos en _train_, _validation_ y _test_ con 75%, 15% y 10% de los datos respectivamente. Verifique que se cumplen aproximadamente las proporciones. Luego separe el _target_ del resto de las variables que consideraremos. "
   ]
  },
  {
   "cell_type": "code",
   "execution_count": 14,
   "metadata": {},
   "outputs": [
    {
     "name": "stdout",
     "output_type": "stream",
     "text": [
      "train:75.00%, validation:15.00%, test:10.00%\n"
     ]
    }
   ],
   "source": [
    "data_pre_train, data_pre_temp = train_test_split(data_pre, test_size= 0.25)\n",
    "data_pre_val, data_pre_test = train_test_split(data_pre_temp, test_size= 0.4)\n",
    "print(\"train:{:.2f}%, validation:{:.2f}%, test:{:.2f}%\".format(len(data_pre_train)/len(data)*100,len(data_pre_val)/len(data)*100,len(data_pre_test)/len(data)*100))\n",
    "data_x_train = data_pre_train.drop(columns='Purchase')\n",
    "data_y_train = data_pre_train['Purchase']\n",
    "\n",
    "data_x_val = data_pre_val.drop(columns='Purchase')\n",
    "data_y_val = data_pre_val['Purchase']\n",
    "\n",
    "data_x_test = data_pre_test.drop(columns='Purchase')\n",
    "data_y_test = data_pre_test['Purchase']\n"
   ]
  },
  {
   "cell_type": "markdown",
   "metadata": {},
   "source": [
    " #### 1.e  Estandarización\n",
    " Utilizaremos `Standar_Scaler` para estandarizar los datos antes de entrenar. Que ventaja tiene en su opinion el tener un objeto que permite estandarizar (y hacer la transformación inversa) frente a hacer la opreación aritmetica \"manualmente\"? Note el cambio de tipo entre `data_x_train` y `x_train`. Tiene utilidad estandarizar el _target_ para este modelo? Guarde el _target_ estandarizado de todas formas para comparar más adelante."
   ]
  },
  {
   "cell_type": "markdown",
   "metadata": {},
   "source": [
    "### R:\n",
    "\n",
    "La utilidad que tiene el tener el objeto (en este caso, StandardScaler), permite tener en primer lugar una implementación baseline, y confiada por la comunidad la cual cumple con la tarea (No hay que reinventar la rueda). Segundo, la facilidad de poder aplicar las transformaciones necesarias para datos nuevos (validación / testing/ datos en producción) convenientemente en un solo objeto. Tercero, para la aplicación en producción, este objeto lo podemos exportar fácilmente utilizando la librería pickle, cosa de poder facilitar el pipeline.\n",
    "\n",
    "Por lo general, no es necesario estandarizar la variable de target, pero puede ser util para algoritmos que aprovechan que los datos estén centrados. Al momento de evaluar, hay que aplicar la función inversa de transformación sobre los datos escalados, para poder otorgar valores reales en el dominio original del problema."
   ]
  },
  {
   "cell_type": "code",
   "execution_count": 15,
   "metadata": {},
   "outputs": [],
   "source": [
    "scaler_x = StandardScaler()\n",
    "scaler_y = StandardScaler()\n",
    "\n",
    "scaler_x.fit(data_x_train)\n",
    "x_tr = scaler_x.transform(data_x_train)\n",
    "x_val = scaler_x.transform(data_x_val)\n",
    "x_test = scaler_x.transform(data_x_test)\n",
    "\n",
    "scaler_y.fit(data_y_train.values.reshape(-1,1))\n",
    "y_tr = scaler_y.transform(data_y_train.values.reshape(-1,1))\n",
    "y_val = scaler_y.transform(data_y_val.values.reshape(-1,1))\n",
    "y_test = scaler_y.transform(data_y_test.values.reshape(-1,1))"
   ]
  },
  {
   "cell_type": "markdown",
   "metadata": {},
   "source": [
    " #### 1.f Primera Regresión\n",
    " Realice una regresión lineal con los datos escalados y no escalados. Compare sus _scores_. Cual es la formula del _score_ que utiliza el regresor (puede buscar en la documentación)? Qué interpretación se le puede dar al _score_? Puede concluir que los datos escalados o no escalados entregan un mejor modelo? Sobre que conjunto de datos (_train_, _test_ o _valitdation_) deberíamos comparar el _score_?"
   ]
  },
  {
   "cell_type": "code",
   "execution_count": 16,
   "metadata": {},
   "outputs": [
    {
     "name": "stdout",
     "output_type": "stream",
     "text": [
      "train score:0.006655, validation score:0.007396, test score:0.006393\n"
     ]
    }
   ],
   "source": [
    "reg_scaled = LinearRegression()\n",
    "reg_scaled.fit(x_tr,y_tr)\n",
    "train_score = reg_scaled.score(x_tr,y_tr)\n",
    "val_score = reg_scaled.score(x_val,y_val)\n",
    "test_score = reg_scaled.score(x_test,y_test)\n",
    "print(\"train score:{:.6f}, validation score:{:.6f}, test score:{:.6f}\".format(train_score,val_score,test_score))"
   ]
  },
  {
   "cell_type": "code",
   "execution_count": 17,
   "metadata": {},
   "outputs": [
    {
     "name": "stdout",
     "output_type": "stream",
     "text": [
      "train score:0.006655, validation score:0.007396, test score:0.006393\n"
     ]
    }
   ],
   "source": [
    "reg_unscaled = LinearRegression()\n",
    "reg_unscaled.fit(x_tr,data_y_train.values.reshape(-1,1))\n",
    "train_score = reg_unscaled.score(x_tr,data_y_train.values.reshape(-1,1))\n",
    "val_score = reg_unscaled.score(x_val,data_y_val.values.reshape(-1,1))\n",
    "test_score = reg_unscaled.score(x_test,data_y_test.values.reshape(-1,1))\n",
    "print(\"train score:{:.6f}, validation score:{:.6f}, test score:{:.6f}\".format(train_score,val_score,test_score))"
   ]
  },
  {
   "cell_type": "code",
   "execution_count": 18,
   "metadata": {},
   "outputs": [
    {
     "name": "stdout",
     "output_type": "stream",
     "text": [
      "train score:0.006656, validation score:0.007399, test score:0.006393\n"
     ]
    }
   ],
   "source": [
    "reg_unscaled2 = LinearRegression()\n",
    "reg_unscaled2.fit(data_x_train,data_y_train.values.reshape(-1,1))\n",
    "train_score = reg_unscaled2.score(data_x_train,data_y_train.values.reshape(-1,1))\n",
    "val_score = reg_unscaled2.score(data_x_val,data_y_val.values.reshape(-1,1))\n",
    "test_score = reg_unscaled2.score(data_x_test,data_y_test.values.reshape(-1,1))\n",
    "print(\"train score:{:.6f}, validation score:{:.6f}, test score:{:.6f}\".format(train_score,val_score,test_score))"
   ]
  },
  {
   "cell_type": "markdown",
   "metadata": {},
   "source": [
    "### R:\n",
    "\n",
    "El metodo Score de la regresion lineal implementado en la libreria scikit-learn, corresponde al $R^2$, el cual esta definido por:\n",
    "\n",
    "$R^2=$ $\\sigma_{XY}^2 \\over \\sigma_X^2 \\sigma_Y^2$\n",
    "\n",
    "Esta metrica es igual al coeficiente de correlación de pearson, el cual nos entrega el que tanto se ajusta nuestra regresion a los datos. El $R^2$ toma valores de 1 cuando nos ajustamos perfectamente, un modelo constante que siempre entrega el mismo resultado tiene un $R^2$ de 0. Esta metrica puede ser negativa.\n",
    "\n",
    "Podemos medir el score de las tres set de datos, la idea principal es ver el poder de generalización de nuestro modelo, mediante las acciones que tomamos con el set de entrenamiento, para luego validar y finalmente probar con el set de testing. En este caso, el modelo que mejor funciona (validacion y testing) es la regresion lineal sin los datos escalados. Pero, para poder afirmar esto necesitariamos hacer varias corridas y varios k-fold para poder luego hacer un test de hipotesis para corrobar si las diferencias son significativas."
   ]
  },
  {
   "cell_type": "markdown",
   "metadata": {},
   "source": [
    " #### 1.g  Tranformaciones simples\n",
    " Grafique como se distribuyen los precios, apoyese en el siguiente código. Recuerde que los gráficos deben ir acompañados de título, nombre de ejes entre otros.\n",
    " Viendo el gráfico, pareciera que una representación lineal funcionará bien para modelar este tipo de datos?\n",
    " \n",
    "Prueba algunas transformaciones simples, como logaritmo o raiz cuadrada y comente los gráficos. \n",
    "\n",
    "Estos gráficos permiten concluir algo sobre el comportamiento de un modelo lineal o solo sirven de caracter exploratorio?"
   ]
  },
  {
   "cell_type": "code",
   "execution_count": 19,
   "metadata": {},
   "outputs": [
    {
     "data": {
      "image/png": "[encoded data removed]",
      "text/plain": [
       "<Figure size 432x288 with 1 Axes>"
      ]
     },
     "metadata": {},
     "output_type": "display_data"
    }
   ],
   "source": [
    "plt.plot(\n",
    "    np.arange(0,data_y_train.shape[0],1),\n",
    "    data_y_train.sort_values(),\n",
    "    np.arange(0,data_y_train.shape[0],1),\n",
    "    np.linspace(0,((data_y_train.sort_values())).max(),\n",
    "                num=data_y_train.shape[0])\n",
    ")\n",
    "plt.ylabel('Compra')\n",
    "plt.xlabel('N')\n",
    "plt.title('Compra ordenados')\n",
    "plt.show()"
   ]
  },
  {
   "cell_type": "code",
   "execution_count": 20,
   "metadata": {},
   "outputs": [
    {
     "data": {
      "image/png": "[encoded data removed]",
      "text/plain": [
       "<Figure size 432x288 with 1 Axes>"
      ]
     },
     "metadata": {},
     "output_type": "display_data"
    }
   ],
   "source": [
    "transformed_log = np.log(data_y_train.sort_values())\n",
    "\n",
    "plt.plot(\n",
    "    np.arange(0,data_y_train.shape[0],1),\n",
    "    transformed_log,\n",
    "    np.arange(0,data_y_train.shape[0],1),\n",
    "    np.linspace(0,transformed_log.max(),\n",
    "                num=data_y_train.shape[0])\n",
    ")\n",
    "plt.ylabel('log Compra')\n",
    "plt.xlabel('N')\n",
    "plt.title('log Compra ordenados')\n",
    "plt.show()"
   ]
  },
  {
   "cell_type": "code",
   "execution_count": 21,
   "metadata": {},
   "outputs": [
    {
     "data": {
      "image/png": "[encoded data removed]",
      "text/plain": [
       "<Figure size 432x288 with 1 Axes>"
      ]
     },
     "metadata": {},
     "output_type": "display_data"
    }
   ],
   "source": [
    "transformed_sqrt = np.sqrt(data_y_train.sort_values())\n",
    "\n",
    "plt.plot(\n",
    "    np.arange(0,data_y_train.shape[0],1),\n",
    "    transformed_sqrt,\n",
    "    np.arange(0,data_y_train.shape[0],1),\n",
    "    np.linspace(0,transformed_sqrt.max(),\n",
    "                num=data_y_train.shape[0])\n",
    ")\n",
    "plt.ylabel('sqrt Compra')\n",
    "plt.xlabel('N')\n",
    "plt.title('sqrt compra ordenados')\n",
    "plt.show()"
   ]
  },
  {
   "cell_type": "markdown",
   "metadata": {},
   "source": [
    "### R:\n",
    "Principalmente nos sirven de caracter exploratorio (Cuantos datos tienen comportamiento similar) y pueden dar cierto insight sobre la linearidad del problema. Podemos intentar modelar el problema con alguna transformación que transforme el output a lineal, pero si nuestros datos no son capaces de explicar la linearidad del problema, puede que no funcione mucho."
   ]
  },
  {
   "cell_type": "markdown",
   "metadata": {},
   "source": [
    "#### 1.h 10-_fold_ sobre la potencia\n",
    "Probaremos la utilidad real de realizar una transformación del target del tipo $P \\gets P^{i}$ con $i \\in [0,2]$ haciendo 10-_fold_ variando el valor de $i$ en a lo menos 10 incrementos. Puede basarse en la estrucuta siguiente. Debe elegir un estimador del error de validación de cada modelo (_e.g._ mediana, promedio...) y comentar brevemente por qué eligio tal estimador. \n",
    "Luego grafique como varia el error de validación en función de _i_. \n",
    "Finalmente, con el mejor valor de $i$ encontrado, entrene un regresor lineal con todos los datos de entrenamiento y compare su densempeño con los modelos anteriores.\n",
    "Puede afirmar que alguna de las transformaciones mejore el desempeño del modelo? "
   ]
  },
  {
   "cell_type": "code",
   "execution_count": 22,
   "metadata": {},
   "outputs": [
    {
     "name": "stdout",
     "output_type": "stream",
     "text": [
      "CPU times: user 5min 15s, sys: 6.91 s, total: 5min 22s\n",
      "Wall time: 54.2 s\n"
     ]
    }
   ],
   "source": [
    "%%time\n",
    "\n",
    "folds = KFold(10)\n",
    "results = []\n",
    "for i in range(1,21):\n",
    "    folds_results = []\n",
    "    for train_index, val_index in folds.split(x_tr):\n",
    "        y_i = data_y_train.values**(i/10)\n",
    "        y_tr_i = y_i[train_index]\n",
    "        y_val_i = y_i[val_index]\n",
    "        \n",
    "        x_tr_i = x_tr[train_index]\n",
    "        x_val_i = x_tr[val_index]\n",
    "        reg_i = LinearRegression()\n",
    "        reg_i.fit(x_tr_i,y_tr_i)\n",
    "        \n",
    "        train_score = reg_i.score(x_tr_i,y_tr_i)\n",
    "        val_score = reg_i.score(x_val_i,y_val_i)\n",
    "        \n",
    "        folds_results.append(val_score)\n",
    "    results.append({'i':i,'mean':np.mean(folds_results),'std':np.std(folds_results),'folds':folds_results})\n",
    "results = pd.DataFrame(results)"
   ]
  },
  {
   "cell_type": "code",
   "execution_count": 23,
   "metadata": {},
   "outputs": [
    {
     "data": {
      "image/png": "[encoded data removed]",
      "text/plain": [
       "<Figure size 432x288 with 1 Axes>"
      ]
     },
     "metadata": {},
     "output_type": "display_data"
    }
   ],
   "source": [
    "sns.lineplot(x='i',y='mean',ci='std',data=results)\n",
    "plt.show()"
   ]
  },
  {
   "cell_type": "code",
   "execution_count": 24,
   "metadata": {},
   "outputs": [
    {
     "data": {
      "image/png": "[encoded data removed]",
      "text/plain": [
       "<Figure size 432x288 with 1 Axes>"
      ]
     },
     "metadata": {},
     "output_type": "display_data"
    }
   ],
   "source": [
    "aux = []\n",
    "for i in range(0,20):\n",
    "    aux.append(results.iloc[i,:]['folds'])\n",
    "plt.boxplot(aux)\n",
    "plt.ylabel('Validation Score')\n",
    "plt.xlabel('Valor de i')\n",
    "plt.show()"
   ]
  },
  {
   "cell_type": "code",
   "execution_count": 25,
   "metadata": {},
   "outputs": [
    {
     "data": {
      "text/plain": [
       "i                12\n",
       "mean      0.0065366\n",
       "std     0.000440579\n",
       "Name: 11, dtype: object"
      ]
     },
     "execution_count": 25,
     "metadata": {},
     "output_type": "execute_result"
    }
   ],
   "source": [
    "best_model = results.sort_values('mean',ascending=False).iloc[0]\n",
    "best_model[['i','mean','std']]"
   ]
  },
  {
   "cell_type": "code",
   "execution_count": 26,
   "metadata": {},
   "outputs": [
    {
     "data": {
      "image/png": "[encoded data removed]",
      "text/plain": [
       "<Figure size 432x288 with 1 Axes>"
      ]
     },
     "metadata": {},
     "output_type": "display_data"
    }
   ],
   "source": [
    "best_i = best_model['i']\n",
    "transformed_recip = data_y_train.sort_values()**(best_i/10)\n",
    "\n",
    "plt.plot(\n",
    "    np.arange(0,data_y_train.shape[0],1),\n",
    "    transformed_recip,\n",
    "    np.arange(0,data_y_train.shape[0],1),\n",
    "    np.linspace(0,transformed_recip.max(),\n",
    "                num=data_y_train.shape[0])\n",
    ")\n",
    "\n",
    "plt.show()"
   ]
  },
  {
   "cell_type": "code",
   "execution_count": 27,
   "metadata": {},
   "outputs": [
    {
     "name": "stdout",
     "output_type": "stream",
     "text": [
      "train score:0.006686, validation score:0.007358, test score:0.006357\n"
     ]
    }
   ],
   "source": [
    "best_i_reg = LinearRegression()\n",
    "best_i_reg.fit(data_x_train,data_y_train.values**(best_i/10))\n",
    "train_score = best_i_reg.score(data_x_train,data_y_train.values**(best_i/10))\n",
    "val_score = best_i_reg.score(data_x_val,data_y_val.values**(best_i/10))\n",
    "test_score = best_i_reg.score(data_x_test,data_y_test.values**(best_i/10))\n",
    "print(\"train score:{:.6f}, validation score:{:.6f}, test score:{:.6f}\".format(train_score,val_score,test_score))"
   ]
  },
  {
   "cell_type": "markdown",
   "metadata": {},
   "source": [
    "### R:\n",
    "\n",
    "Hay una leve mejora con los el mejor i ($i=11$), pero denuevo, hay que evaluar con algun test de significancia estadistica, para evaluar si esta diferencia es significativa."
   ]
  },
  {
   "cell_type": "markdown",
   "metadata": {},
   "source": [
    "#### 1.i _Q-Q plot_\n",
    "Gráfique el _Quantile-Quantile Plot_ del residuo (error) de validación del merjo modelo que haya encontrado. Qué puede decir respecto al supuesto de normalidad de los residuos en los datos? "
   ]
  },
  {
   "cell_type": "code",
   "execution_count": 28,
   "metadata": {},
   "outputs": [
    {
     "data": {
      "text/plain": [
       "((array([-4.29855253, -4.09768627, -3.9883572 , ...,  3.9883572 ,\n",
       "          4.09768627,  4.29855253]),\n",
       "  array([ 8159.06886963,  8159.50404147,  8159.51568352, ...,\n",
       "         10261.27032477, 10261.61617397, 10261.6260095 ])),\n",
       " (403.163136076286, 9340.13690378965, 0.9913519654894437))"
      ]
     },
     "execution_count": 28,
     "metadata": {},
     "output_type": "execute_result"
    },
    {
     "data": {
      "image/png": "[encoded data removed]",
      "text/plain": [
       "<Figure size 432x288 with 1 Axes>"
      ]
     },
     "metadata": {},
     "output_type": "display_data"
    }
   ],
   "source": [
    "q_reg = LinearRegression()\n",
    "q_reg.fit(data_x_train,data_y_train.values.reshape(-1,1))\n",
    "train_score = q_reg.score(data_x_train,data_y_train.values.reshape(-1,1))\n",
    "val_score = q_reg.score(data_x_val,data_y_val.values.reshape(-1,1))\n",
    "val_predict = q_reg.predict(data_x_val)\n",
    "err = val_predict - y_val\n",
    "stats.probplot(err.T[0] ,dist='norm', plot=plt)"
   ]
  },
  {
   "cell_type": "code",
   "execution_count": 29,
   "metadata": {},
   "outputs": [
    {
     "name": "stdout",
     "output_type": "stream",
     "text": [
      "0.006655763994635744 0.007399488314519975\n"
     ]
    }
   ],
   "source": [
    "print(train_score,val_score)"
   ]
  },
  {
   "cell_type": "markdown",
   "metadata": {},
   "source": [
    "### R:\n",
    "\n",
    "En este caso, no se cumple la normalidad de los datos, ya que los errores no siguen la recta.  esto puede ser por que las variables pueden no explicar la relacion con los datos de salida."
   ]
  },
  {
   "cell_type": "markdown",
   "metadata": {},
   "source": [
    "#### 1.j Variables categoricas\n",
    "Entrene ahora el modelo que mejor resultado obtuvo pero esta vez utilizando todos los atributos, transformando las variables categoricas no binarias. Como las variables categóricas no se relacionan linealmente al _target_ (pues no representan un valor numérico), debe transformarlas a variables binarias de igual manera que se realizó con la variable \"Occupation\" en la parte 1.c. \n",
    "Debe cargar de nuevo el DataFrame original pues borramos las columnas de categoría de producto.\n",
    "Discuta por qué podría resultar útil agregar de esta misma manera el dato \"City_Category\" y no como se hizo inicialmente. \n",
    "Discuta los resultados obtenidos en comparación con la parte anterior."
   ]
  },
  {
   "cell_type": "code",
   "execution_count": 30,
   "metadata": {},
   "outputs": [
    {
     "name": "stdout",
     "output_type": "stream",
     "text": [
      "train:75.00%, validation:15.00%, test:10.00%\n",
      "train score:0.659867, validation score:0.662097, test score:0.659457\n"
     ]
    }
   ],
   "source": [
    "data = pd.read_csv(\"BlackFriday.csv\")\n",
    "\n",
    "occupation_dummies = pd.get_dummies(data.Occupation,prefix=\"occupation\")\n",
    "col = list(data.columns)\n",
    "#col.remove('City_Category')\n",
    "col.remove('Occupation')\n",
    "data_pre = data[col]\n",
    "#data_pre = data_pre.join(city_dummies)\n",
    "data_pre = data_pre.join(occupation_dummies)\n",
    "data = data.drop(columns=['User_ID','Product_ID']) \n",
    "data = data.fillna(value=0) # para las categorias que estan en NAN\n",
    "\n",
    "gender_dict = {'F':1,'M':0}\n",
    "data['Gender'] = data.Gender.apply(lambda x: gender_dict[x])\n",
    "\n",
    "siccy = pd.get_dummies(data.Stay_In_Current_City_Years,prefix=\"siccy\")\n",
    "age = pd.get_dummies(data.Age,prefix=\"age\")\n",
    "city_dummies = pd.get_dummies(data.City_Category,prefix=\"city\")\n",
    "occupation_dummies = pd.get_dummies(data.Occupation,prefix=\"occupation\")\n",
    "Product_Category_1_dummies = pd.get_dummies(data.Product_Category_1,prefix=\"Product_Category_1\")\n",
    "Product_Category_2_dummies = pd.get_dummies(data.Product_Category_2,prefix=\"Product_Category_2\")\n",
    "Product_Category_3_dummies = pd.get_dummies(data.Product_Category_3,prefix=\"Product_Category_3\")\n",
    "\n",
    "col = list(data.columns)\n",
    "col.remove('Stay_In_Current_City_Years')\n",
    "col.remove('City_Category')\n",
    "col.remove('Occupation')\n",
    "col.remove('Age')\n",
    "col.remove('Product_Category_1')\n",
    "col.remove('Product_Category_2')\n",
    "col.remove('Product_Category_3')\n",
    "\n",
    "data_pre = data[col]\n",
    "data_pre = data_pre.join(siccy)\n",
    "data_pre = data_pre.join(age)\n",
    "data_pre = data_pre.join(city_dummies)\n",
    "data_pre = data_pre.join(occupation_dummies)\n",
    "data_pre = data_pre.join(Product_Category_1_dummies)\n",
    "data_pre = data_pre.join(Product_Category_2_dummies)\n",
    "data_pre = data_pre.join(Product_Category_3_dummies)\n",
    "\n",
    "data_pre_train, data_pre_temp = train_test_split(data_pre, test_size= 0.25)\n",
    "data_pre_val, data_pre_test = train_test_split(data_pre_temp, test_size= 0.4)\n",
    "print(\"train:{:.2f}%, validation:{:.2f}%, test:{:.2f}%\".format(len(data_pre_train)/len(data)*100,len(data_pre_val)/len(data)*100,len(data_pre_test)/len(data)*100))\n",
    "data_x_train = data_pre_train.drop(columns='Purchase')\n",
    "data_y_train = np.log(data_pre_train['Purchase'])\n",
    "\n",
    "data_x_val = data_pre_val.drop(columns='Purchase')\n",
    "data_y_val = np.log(data_pre_val['Purchase'])\n",
    "\n",
    "data_x_test = data_pre_test.drop(columns='Purchase')\n",
    "data_y_test = np.log(data_pre_test['Purchase'])\n",
    "\n",
    "regresion = LinearRegression()\n",
    "regresion.fit(data_x_train,data_y_train.values.reshape(-1,1))\n",
    "train_score = regresion.score(data_x_train,data_y_train.values.reshape(-1,1))\n",
    "val_score = regresion.score(data_x_val,data_y_val.values.reshape(-1,1))\n",
    "test_score = regresion.score(data_x_test,data_y_test.values.reshape(-1,1))\n",
    "print(\"train score:{:.6f}, validation score:{:.6f}, test score:{:.6f}\".format(train_score,val_score,test_score))"
   ]
  },
  {
   "cell_type": "markdown",
   "metadata": {},
   "source": [
    "### R:\n",
    "\n",
    "Mejoramos bastante el resultado de la regresion (0.006 a 0.665) codificando las variables de categoria del producto como dummy variables, en conjunto con hacer la transformacion logaritmica, cosa que trate de modelar la recta desde los 50000 en adelante. Cabe destacar que esto tambien puede estar influido en el train_test split que se realiza al azar, aca no aplicamos ninguna semilla para reproducir resultados"
   ]
  },
  {
   "cell_type": "code",
   "execution_count": null,
   "metadata": {},
   "outputs": [],
   "source": []
  }
 ],
 "metadata": {
  "kernelspec": {
   "display_name": "Python 3",
   "language": "python",
   "name": "python3"
  },
  "language_info": {
   "codemirror_mode": {
    "name": "ipython",
    "version": 3
   },
   "file_extension": ".py",
   "mimetype": "text/x-python",
   "name": "python",
   "nbconvert_exporter": "python",
   "pygments_lexer": "ipython3",
   "version": "3.6.8"
  }
 },
 "nbformat": 4,
 "nbformat_minor": 2
}
